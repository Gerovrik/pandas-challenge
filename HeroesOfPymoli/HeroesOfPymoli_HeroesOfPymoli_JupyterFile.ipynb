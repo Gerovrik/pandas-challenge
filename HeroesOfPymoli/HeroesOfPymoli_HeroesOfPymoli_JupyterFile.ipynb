{
 "cells": [
  {
   "cell_type": "markdown",
   "metadata": {},
   "source": [
    "### Note\n",
    "* Instructions have been included for each segment. You do not have to follow them exactly, but they are included to help you think through the steps."
   ]
  },
  {
   "cell_type": "code",
   "execution_count": 1,
   "metadata": {},
   "outputs": [
    {
     "data": {
      "text/html": [
       "<div>\n",
       "<style scoped>\n",
       "    .dataframe tbody tr th:only-of-type {\n",
       "        vertical-align: middle;\n",
       "    }\n",
       "\n",
       "    .dataframe tbody tr th {\n",
       "        vertical-align: top;\n",
       "    }\n",
       "\n",
       "    .dataframe thead th {\n",
       "        text-align: right;\n",
       "    }\n",
       "</style>\n",
       "<table border=\"1\" class=\"dataframe\">\n",
       "  <thead>\n",
       "    <tr style=\"text-align: right;\">\n",
       "      <th></th>\n",
       "      <th>Purchase ID</th>\n",
       "      <th>SN</th>\n",
       "      <th>Age</th>\n",
       "      <th>Gender</th>\n",
       "      <th>Item ID</th>\n",
       "      <th>Item Name</th>\n",
       "      <th>Price</th>\n",
       "    </tr>\n",
       "  </thead>\n",
       "  <tbody>\n",
       "    <tr>\n",
       "      <th>0</th>\n",
       "      <td>0</td>\n",
       "      <td>Lisim78</td>\n",
       "      <td>20</td>\n",
       "      <td>Male</td>\n",
       "      <td>108</td>\n",
       "      <td>Extraction, Quickblade Of Trembling Hands</td>\n",
       "      <td>3.53</td>\n",
       "    </tr>\n",
       "    <tr>\n",
       "      <th>1</th>\n",
       "      <td>1</td>\n",
       "      <td>Lisovynya38</td>\n",
       "      <td>40</td>\n",
       "      <td>Male</td>\n",
       "      <td>143</td>\n",
       "      <td>Frenzied Scimitar</td>\n",
       "      <td>1.56</td>\n",
       "    </tr>\n",
       "    <tr>\n",
       "      <th>2</th>\n",
       "      <td>2</td>\n",
       "      <td>Ithergue48</td>\n",
       "      <td>24</td>\n",
       "      <td>Male</td>\n",
       "      <td>92</td>\n",
       "      <td>Final Critic</td>\n",
       "      <td>4.88</td>\n",
       "    </tr>\n",
       "    <tr>\n",
       "      <th>3</th>\n",
       "      <td>3</td>\n",
       "      <td>Chamassasya86</td>\n",
       "      <td>24</td>\n",
       "      <td>Male</td>\n",
       "      <td>100</td>\n",
       "      <td>Blindscythe</td>\n",
       "      <td>3.27</td>\n",
       "    </tr>\n",
       "    <tr>\n",
       "      <th>4</th>\n",
       "      <td>4</td>\n",
       "      <td>Iskosia90</td>\n",
       "      <td>23</td>\n",
       "      <td>Male</td>\n",
       "      <td>131</td>\n",
       "      <td>Fury</td>\n",
       "      <td>1.44</td>\n",
       "    </tr>\n",
       "  </tbody>\n",
       "</table>\n",
       "</div>"
      ],
      "text/plain": [
       "   Purchase ID             SN  Age Gender  Item ID  \\\n",
       "0            0        Lisim78   20   Male      108   \n",
       "1            1    Lisovynya38   40   Male      143   \n",
       "2            2     Ithergue48   24   Male       92   \n",
       "3            3  Chamassasya86   24   Male      100   \n",
       "4            4      Iskosia90   23   Male      131   \n",
       "\n",
       "                                   Item Name  Price  \n",
       "0  Extraction, Quickblade Of Trembling Hands   3.53  \n",
       "1                          Frenzied Scimitar   1.56  \n",
       "2                               Final Critic   4.88  \n",
       "3                                Blindscythe   3.27  \n",
       "4                                       Fury   1.44  "
      ]
     },
     "execution_count": 1,
     "metadata": {},
     "output_type": "execute_result"
    }
   ],
   "source": [
    "# Dependencies and Setup\n",
    "import pandas as pd\n",
    "import os as _dir\n",
    "import numpy as np\n",
    "\n",
    "# Fidnding CSV path and reading in raw data\n",
    "working_dir = _dir.getcwd()\n",
    "csv_path = \"purchase_data.csv\"\n",
    "\n",
    "#finding path to CSV and reading in File.\n",
    "for root, dirs, files in _dir.walk(working_dir):\n",
    "    if csv_path in files:\n",
    "        csv_path = (_dir.path.join(root, csv_path))\n",
    "        \n",
    "        purchase_data = pd.read_csv(csv_path)\n",
    "purchase_data.head()"
   ]
  },
  {
   "cell_type": "markdown",
   "metadata": {},
   "source": [
    "## Player Count"
   ]
  },
  {
   "cell_type": "markdown",
   "metadata": {},
   "source": [
    "* Display the total number of players\n"
   ]
  },
  {
   "cell_type": "code",
   "execution_count": 2,
   "metadata": {},
   "outputs": [
    {
     "data": {
      "text/html": [
       "<div>\n",
       "<style scoped>\n",
       "    .dataframe tbody tr th:only-of-type {\n",
       "        vertical-align: middle;\n",
       "    }\n",
       "\n",
       "    .dataframe tbody tr th {\n",
       "        vertical-align: top;\n",
       "    }\n",
       "\n",
       "    .dataframe thead th {\n",
       "        text-align: right;\n",
       "    }\n",
       "</style>\n",
       "<table border=\"1\" class=\"dataframe\">\n",
       "  <thead>\n",
       "    <tr style=\"text-align: right;\">\n",
       "      <th></th>\n",
       "      <th>Total Players</th>\n",
       "    </tr>\n",
       "  </thead>\n",
       "  <tbody>\n",
       "    <tr>\n",
       "      <th>0</th>\n",
       "      <td>576</td>\n",
       "    </tr>\n",
       "  </tbody>\n",
       "</table>\n",
       "</div>"
      ],
      "text/plain": [
       "   Total Players\n",
       "0            576"
      ]
     },
     "execution_count": 2,
     "metadata": {},
     "output_type": "execute_result"
    }
   ],
   "source": [
    "#Used list length of SN for total players\n",
    "total_Player_Count = len(purchase_data[\"SN\"].value_counts())\n",
    "#Created Data frame for player count\n",
    "player_Count = pd.DataFrame({\"Total Players\":[total_Player_Count]})\n",
    "player_Count\n",
    "        "
   ]
  },
  {
   "cell_type": "markdown",
   "metadata": {},
   "source": [
    "## Purchasing Analysis (Total)"
   ]
  },
  {
   "cell_type": "markdown",
   "metadata": {},
   "source": [
    "* Run basic calculations to obtain number of unique items, average price, etc.\n",
    "\n",
    "\n",
    "* Create a summary data frame to hold the results\n",
    "\n",
    "\n",
    "* Optional: give the displayed data cleaner formatting\n",
    "\n",
    "\n",
    "* Display the summary data frame\n"
   ]
  },
  {
   "cell_type": "code",
   "execution_count": 3,
   "metadata": {
    "scrolled": true
   },
   "outputs": [
    {
     "data": {
      "text/html": [
       "<style  type=\"text/css\" >\n",
       "</style><table id=\"T_7f2dd155_1ba0_11eb_8956_04d9f5f90b15\" ><thead>    <tr>        <th class=\"blank level0\" ></th>        <th class=\"col_heading level0 col0\" >Number of Unique Items</th>        <th class=\"col_heading level0 col1\" >Average Purchase Price</th>        <th class=\"col_heading level0 col2\" >Total Number of Purchases</th>        <th class=\"col_heading level0 col3\" >Total Revenue</th>    </tr></thead><tbody>\n",
       "                <tr>\n",
       "                        <th id=\"T_7f2dd155_1ba0_11eb_8956_04d9f5f90b15level0_row0\" class=\"row_heading level0 row0\" >0</th>\n",
       "                        <td id=\"T_7f2dd155_1ba0_11eb_8956_04d9f5f90b15row0_col0\" class=\"data row0 col0\" >179</td>\n",
       "                        <td id=\"T_7f2dd155_1ba0_11eb_8956_04d9f5f90b15row0_col1\" class=\"data row0 col1\" >$3.05</td>\n",
       "                        <td id=\"T_7f2dd155_1ba0_11eb_8956_04d9f5f90b15row0_col2\" class=\"data row0 col2\" >780</td>\n",
       "                        <td id=\"T_7f2dd155_1ba0_11eb_8956_04d9f5f90b15row0_col3\" class=\"data row0 col3\" >$2,379.77</td>\n",
       "            </tr>\n",
       "    </tbody></table>"
      ],
      "text/plain": [
       "<pandas.io.formats.style.Styler at 0x20065e2da30>"
      ]
     },
     "execution_count": 3,
     "metadata": {},
     "output_type": "execute_result"
    }
   ],
   "source": [
    "#Calculations for each variable \n",
    "unique_Item_Count = len((purchase_data[\"Item ID\"]).unique())\n",
    "average_Purchase_Price= (purchase_data[\"Price\"].mean())\n",
    "total_Purchase_Count = purchase_data[\"Purchase ID\"].count()\n",
    "total_revenue = purchase_data[\"Price\"].sum()\n",
    "#Creating data frame for all values above\n",
    "purchasing_Analysis_df = pd.DataFrame({\n",
    "                                    \"Number of Unique Items\": [unique_Item_Count],\n",
    "                                    \"Average Purchase Price\": [average_Purchase_Price],\n",
    "                                    \"Total Number of Purchases\": [total_Purchase_Count],\n",
    "                                    \"Total Revenue\": [total_revenue]\n",
    "                                    })\n",
    "#Formated the dataframe to fit currency style\n",
    "purchasing_Analysis_df.style.format({\n",
    "                                    \"Average Purchase Price\":\"${:,.2f}\",\n",
    "                                    \"Total Revenue\": \"${:,.2f}\"\n",
    "                                    })\n"
   ]
  },
  {
   "cell_type": "markdown",
   "metadata": {},
   "source": [
    "## Gender Demographics"
   ]
  },
  {
   "cell_type": "markdown",
   "metadata": {},
   "source": [
    "* Percentage and Count of Male Players\n",
    "\n",
    "\n",
    "* Percentage and Count of Female Players\n",
    "\n",
    "\n",
    "* Percentage and Count of Other / Non-Disclosed\n",
    "\n",
    "\n"
   ]
  },
  {
   "cell_type": "code",
   "execution_count": 4,
   "metadata": {},
   "outputs": [
    {
     "data": {
      "text/html": [
       "<style  type=\"text/css\" >\n",
       "</style><table id=\"T_8107ff2c_1ba0_11eb_ac62_04d9f5f90b15\" ><thead>    <tr>        <th class=\"blank level0\" ></th>        <th class=\"col_heading level0 col0\" >Percentage of Players</th>        <th class=\"col_heading level0 col1\" >Total Count</th>    </tr></thead><tbody>\n",
       "                <tr>\n",
       "                        <th id=\"T_8107ff2c_1ba0_11eb_ac62_04d9f5f90b15level0_row0\" class=\"row_heading level0 row0\" >Male</th>\n",
       "                        <td id=\"T_8107ff2c_1ba0_11eb_ac62_04d9f5f90b15row0_col0\" class=\"data row0 col0\" >84.03</td>\n",
       "                        <td id=\"T_8107ff2c_1ba0_11eb_ac62_04d9f5f90b15row0_col1\" class=\"data row0 col1\" >484</td>\n",
       "            </tr>\n",
       "            <tr>\n",
       "                        <th id=\"T_8107ff2c_1ba0_11eb_ac62_04d9f5f90b15level0_row1\" class=\"row_heading level0 row1\" >Female</th>\n",
       "                        <td id=\"T_8107ff2c_1ba0_11eb_ac62_04d9f5f90b15row1_col0\" class=\"data row1 col0\" >14.06</td>\n",
       "                        <td id=\"T_8107ff2c_1ba0_11eb_ac62_04d9f5f90b15row1_col1\" class=\"data row1 col1\" >81</td>\n",
       "            </tr>\n",
       "            <tr>\n",
       "                        <th id=\"T_8107ff2c_1ba0_11eb_ac62_04d9f5f90b15level0_row2\" class=\"row_heading level0 row2\" >Other / Non-Disclosed</th>\n",
       "                        <td id=\"T_8107ff2c_1ba0_11eb_ac62_04d9f5f90b15row2_col0\" class=\"data row2 col0\" >1.91</td>\n",
       "                        <td id=\"T_8107ff2c_1ba0_11eb_ac62_04d9f5f90b15row2_col1\" class=\"data row2 col1\" >11</td>\n",
       "            </tr>\n",
       "    </tbody></table>"
      ],
      "text/plain": [
       "<pandas.io.formats.style.Styler at 0x20066bcde50>"
      ]
     },
     "execution_count": 4,
     "metadata": {},
     "output_type": "execute_result"
    }
   ],
   "source": [
    "#Grouped purchase data according to gender\n",
    "gender_Type = purchase_data.groupby(\"Gender\")\n",
    "#Counted totoal of SN in each gender \n",
    "gender_Total_Count = gender_Type.nunique()[\"SN\"]\n",
    "#calcuations for percent of gender\n",
    "gender_Player_Percent = ((gender_Total_Count / total_Player_Count) * 100)\n",
    "#Data frame for values above\n",
    "gender_Demopgraphics = pd.DataFrame({\"Percentage of Players\": gender_Player_Percent,\n",
    "                                     \"Total Count\": gender_Total_Count\n",
    "                                     })\n",
    "#formated the data frame to have no name in first column\n",
    "gender_Demopgraphics.index.name = None\n",
    "#formated style of output to descending  order and two decimals\n",
    "gender_Demopgraphics.sort_values([\"Total Count\"], ascending = False).style.format({\n",
    "    \"Percentage of Players\" : \"{:.2f}\"\n",
    "    })\n",
    "                "
   ]
  },
  {
   "cell_type": "markdown",
   "metadata": {},
   "source": [
    "\n",
    "## Purchasing Analysis (Gender)"
   ]
  },
  {
   "cell_type": "markdown",
   "metadata": {},
   "source": [
    "* Run basic calculations to obtain purchase count, avg. purchase price, avg. purchase total per person etc. by gender\n",
    "\n",
    "\n",
    "\n",
    "\n",
    "* Create a summary data frame to hold the results\n",
    "\n",
    "\n",
    "* Optional: give the displayed data cleaner formatting\n",
    "\n",
    "\n",
    "* Display the summary data frame"
   ]
  },
  {
   "cell_type": "code",
   "execution_count": 5,
   "metadata": {},
   "outputs": [
    {
     "data": {
      "text/html": [
       "<style  type=\"text/css\" >\n",
       "</style><table id=\"T_82339fa2_1ba0_11eb_806b_04d9f5f90b15\" ><thead>    <tr>        <th class=\"blank level0\" ></th>        <th class=\"col_heading level0 col0\" >Purchase Count</th>        <th class=\"col_heading level0 col1\" >Average Purchase Price</th>        <th class=\"col_heading level0 col2\" >Total Purchase Value</th>        <th class=\"col_heading level0 col3\" >Average Purchase Total per Person</th>    </tr></thead><tbody>\n",
       "                <tr>\n",
       "                        <th id=\"T_82339fa2_1ba0_11eb_806b_04d9f5f90b15level0_row0\" class=\"row_heading level0 row0\" >Female</th>\n",
       "                        <td id=\"T_82339fa2_1ba0_11eb_806b_04d9f5f90b15row0_col0\" class=\"data row0 col0\" >113</td>\n",
       "                        <td id=\"T_82339fa2_1ba0_11eb_806b_04d9f5f90b15row0_col1\" class=\"data row0 col1\" >$3.20</td>\n",
       "                        <td id=\"T_82339fa2_1ba0_11eb_806b_04d9f5f90b15row0_col2\" class=\"data row0 col2\" >$361.94</td>\n",
       "                        <td id=\"T_82339fa2_1ba0_11eb_806b_04d9f5f90b15row0_col3\" class=\"data row0 col3\" >$4.47</td>\n",
       "            </tr>\n",
       "            <tr>\n",
       "                        <th id=\"T_82339fa2_1ba0_11eb_806b_04d9f5f90b15level0_row1\" class=\"row_heading level0 row1\" >Male</th>\n",
       "                        <td id=\"T_82339fa2_1ba0_11eb_806b_04d9f5f90b15row1_col0\" class=\"data row1 col0\" >652</td>\n",
       "                        <td id=\"T_82339fa2_1ba0_11eb_806b_04d9f5f90b15row1_col1\" class=\"data row1 col1\" >$3.02</td>\n",
       "                        <td id=\"T_82339fa2_1ba0_11eb_806b_04d9f5f90b15row1_col2\" class=\"data row1 col2\" >$1,967.64</td>\n",
       "                        <td id=\"T_82339fa2_1ba0_11eb_806b_04d9f5f90b15row1_col3\" class=\"data row1 col3\" >$4.07</td>\n",
       "            </tr>\n",
       "            <tr>\n",
       "                        <th id=\"T_82339fa2_1ba0_11eb_806b_04d9f5f90b15level0_row2\" class=\"row_heading level0 row2\" >Other / Non-Disclosed</th>\n",
       "                        <td id=\"T_82339fa2_1ba0_11eb_806b_04d9f5f90b15row2_col0\" class=\"data row2 col0\" >15</td>\n",
       "                        <td id=\"T_82339fa2_1ba0_11eb_806b_04d9f5f90b15row2_col1\" class=\"data row2 col1\" >$3.35</td>\n",
       "                        <td id=\"T_82339fa2_1ba0_11eb_806b_04d9f5f90b15row2_col2\" class=\"data row2 col2\" >$50.19</td>\n",
       "                        <td id=\"T_82339fa2_1ba0_11eb_806b_04d9f5f90b15row2_col3\" class=\"data row2 col3\" >$4.56</td>\n",
       "            </tr>\n",
       "    </tbody></table>"
      ],
      "text/plain": [
       "<pandas.io.formats.style.Styler at 0x20063da51f0>"
      ]
     },
     "execution_count": 5,
     "metadata": {},
     "output_type": "execute_result"
    }
   ],
   "source": [
    "#Count of each purchase ID in gender\n",
    "gender_Purchase_Count = gender_Type[\"Purchase ID\"].count()\n",
    "#Average purchase price by gender according to price\n",
    "gender_Average_Purchase_Price = gender_Type[\"Price\"].mean()\n",
    "#total sum of Price in gender\n",
    "gender_Total_Purchase = gender_Type[\"Price\"].sum()\n",
    "#Calculations of average spent per person according to gender\n",
    "gender_Average_Per_Person = (gender_Total_Purchase / gender_Total_Count)\n",
    "#Data frame creation of values above\n",
    "gender_Purchasing_Analysis_df = pd.DataFrame({\n",
    "                                            \"Purchase Count\" : gender_Purchase_Count,\n",
    "                                            \"Average Purchase Price\" : gender_Average_Purchase_Price,\n",
    "                                            \"Total Purchase Value\" : gender_Total_Purchase,\n",
    "                                            \"Average Purchase Total per Person\" : gender_Average_Per_Person   \n",
    "                                            })\n",
    "#Formated currency style to specific columns\n",
    "gender_Purchasing_Analysis_df.style.format({\n",
    "                                            \"Average Purchase Price\" : \"${:,.2f}\",\n",
    "                                            \"Total Purchase Value\": \"${:,.2f}\",\n",
    "                                            \"Average Purchase Total per Person\": \"${:,.2f}\"\n",
    "                                            })\n",
    "\n"
   ]
  },
  {
   "cell_type": "markdown",
   "metadata": {},
   "source": [
    "## Age Demographics"
   ]
  },
  {
   "cell_type": "markdown",
   "metadata": {},
   "source": [
    "* Establish bins for ages\n",
    "\n",
    "\n",
    "* Categorize the existing players using the age bins. Hint: use pd.cut()\n",
    "\n",
    "\n",
    "* Calculate the numbers and percentages by age group\n",
    "\n",
    "\n",
    "* Create a summary data frame to hold the results\n",
    "\n",
    "\n",
    "* Optional: round the percentage column to two decimal points\n",
    "\n",
    "\n",
    "* Display Age Demographics Table\n"
   ]
  },
  {
   "cell_type": "code",
   "execution_count": 6,
   "metadata": {},
   "outputs": [
    {
     "data": {
      "text/html": [
       "<style  type=\"text/css\" >\n",
       "</style><table id=\"T_8439965a_1ba0_11eb_9e88_04d9f5f90b15\" ><thead>    <tr>        <th class=\"blank level0\" ></th>        <th class=\"col_heading level0 col0\" >Total Count</th>        <th class=\"col_heading level0 col1\" >Percentage of Players</th>    </tr>    <tr>        <th class=\"index_name level0\" >Age Group</th>        <th class=\"blank\" ></th>        <th class=\"blank\" ></th>    </tr></thead><tbody>\n",
       "                <tr>\n",
       "                        <th id=\"T_8439965a_1ba0_11eb_9e88_04d9f5f90b15level0_row0\" class=\"row_heading level0 row0\" ><10</th>\n",
       "                        <td id=\"T_8439965a_1ba0_11eb_9e88_04d9f5f90b15row0_col0\" class=\"data row0 col0\" >17</td>\n",
       "                        <td id=\"T_8439965a_1ba0_11eb_9e88_04d9f5f90b15row0_col1\" class=\"data row0 col1\" >2.95%</td>\n",
       "            </tr>\n",
       "            <tr>\n",
       "                        <th id=\"T_8439965a_1ba0_11eb_9e88_04d9f5f90b15level0_row1\" class=\"row_heading level0 row1\" >10-14</th>\n",
       "                        <td id=\"T_8439965a_1ba0_11eb_9e88_04d9f5f90b15row1_col0\" class=\"data row1 col0\" >22</td>\n",
       "                        <td id=\"T_8439965a_1ba0_11eb_9e88_04d9f5f90b15row1_col1\" class=\"data row1 col1\" >3.82%</td>\n",
       "            </tr>\n",
       "            <tr>\n",
       "                        <th id=\"T_8439965a_1ba0_11eb_9e88_04d9f5f90b15level0_row2\" class=\"row_heading level0 row2\" >15-19</th>\n",
       "                        <td id=\"T_8439965a_1ba0_11eb_9e88_04d9f5f90b15row2_col0\" class=\"data row2 col0\" >107</td>\n",
       "                        <td id=\"T_8439965a_1ba0_11eb_9e88_04d9f5f90b15row2_col1\" class=\"data row2 col1\" >18.58%</td>\n",
       "            </tr>\n",
       "            <tr>\n",
       "                        <th id=\"T_8439965a_1ba0_11eb_9e88_04d9f5f90b15level0_row3\" class=\"row_heading level0 row3\" >20-24</th>\n",
       "                        <td id=\"T_8439965a_1ba0_11eb_9e88_04d9f5f90b15row3_col0\" class=\"data row3 col0\" >258</td>\n",
       "                        <td id=\"T_8439965a_1ba0_11eb_9e88_04d9f5f90b15row3_col1\" class=\"data row3 col1\" >44.79%</td>\n",
       "            </tr>\n",
       "            <tr>\n",
       "                        <th id=\"T_8439965a_1ba0_11eb_9e88_04d9f5f90b15level0_row4\" class=\"row_heading level0 row4\" >25-29</th>\n",
       "                        <td id=\"T_8439965a_1ba0_11eb_9e88_04d9f5f90b15row4_col0\" class=\"data row4 col0\" >77</td>\n",
       "                        <td id=\"T_8439965a_1ba0_11eb_9e88_04d9f5f90b15row4_col1\" class=\"data row4 col1\" >13.37%</td>\n",
       "            </tr>\n",
       "            <tr>\n",
       "                        <th id=\"T_8439965a_1ba0_11eb_9e88_04d9f5f90b15level0_row5\" class=\"row_heading level0 row5\" >30-34</th>\n",
       "                        <td id=\"T_8439965a_1ba0_11eb_9e88_04d9f5f90b15row5_col0\" class=\"data row5 col0\" >52</td>\n",
       "                        <td id=\"T_8439965a_1ba0_11eb_9e88_04d9f5f90b15row5_col1\" class=\"data row5 col1\" >9.03%</td>\n",
       "            </tr>\n",
       "            <tr>\n",
       "                        <th id=\"T_8439965a_1ba0_11eb_9e88_04d9f5f90b15level0_row6\" class=\"row_heading level0 row6\" >35-39</th>\n",
       "                        <td id=\"T_8439965a_1ba0_11eb_9e88_04d9f5f90b15row6_col0\" class=\"data row6 col0\" >31</td>\n",
       "                        <td id=\"T_8439965a_1ba0_11eb_9e88_04d9f5f90b15row6_col1\" class=\"data row6 col1\" >5.38%</td>\n",
       "            </tr>\n",
       "            <tr>\n",
       "                        <th id=\"T_8439965a_1ba0_11eb_9e88_04d9f5f90b15level0_row7\" class=\"row_heading level0 row7\" >40+</th>\n",
       "                        <td id=\"T_8439965a_1ba0_11eb_9e88_04d9f5f90b15row7_col0\" class=\"data row7 col0\" >12</td>\n",
       "                        <td id=\"T_8439965a_1ba0_11eb_9e88_04d9f5f90b15row7_col1\" class=\"data row7 col1\" >2.08%</td>\n",
       "            </tr>\n",
       "    </tbody></table>"
      ],
      "text/plain": [
       "<pandas.io.formats.style.Styler at 0x20065e2d8b0>"
      ]
     },
     "execution_count": 6,
     "metadata": {},
     "output_type": "execute_result"
    }
   ],
   "source": [
    "#created bins for age\n",
    "age_Bin = [0, 9.99, 14.99, 19.99, 24.99, 29.99, 34.99, 39.99, 999]\n",
    "age_Bin_Names = [\"<10\", \"10-14\", \"15-19\", \"20-24\", \"25-29\", \"30-34\", \"35-39\", \"40+\"]\n",
    "#Segmented data and sorted in to created bins \n",
    "purchase_data[\"Age Group\"] = pd.cut(purchase_data[\"Age\"], age_Bin, labels=(age_Bin_Names))\n",
    "#new data from for age group\n",
    "age_Group = purchase_data.groupby(\"Age Group\")\n",
    "#counted players of each age group by Sn\n",
    "age_Group_Count = age_Group[\"SN\"].nunique()\n",
    "#caluclations of age group percentage \n",
    "age_Group_Percent = ((age_Group_Count/total_Player_Count)* 100)\n",
    "#data frame for age demographics values above\n",
    "age_Demographics_df = pd.DataFrame({\n",
    "                                    \"Total Count\": age_Group_Count,\n",
    "                                    \"Percentage of Players\": age_Group_Percent\n",
    "                                    })\n",
    "#formated the style to 2 decimals and added % \n",
    "age_Demographics_df.style.format({\"Percentage of Players\": \"{:,.2f}%\"})\n",
    "                                  \n",
    "        "
   ]
  },
  {
   "cell_type": "markdown",
   "metadata": {},
   "source": [
    "## Purchasing Analysis (Age)"
   ]
  },
  {
   "cell_type": "markdown",
   "metadata": {},
   "source": [
    "* Bin the purchase_data data frame by age\n",
    "\n",
    "\n",
    "* Run basic calculations to obtain purchase count, avg. purchase price, avg. purchase total per person etc. in the table below\n",
    "\n",
    "\n",
    "* Create a summary data frame to hold the results\n",
    "\n",
    "\n",
    "* Optional: give the displayed data cleaner formatting\n",
    "\n",
    "\n",
    "* Display the summary data frame"
   ]
  },
  {
   "cell_type": "code",
   "execution_count": 7,
   "metadata": {},
   "outputs": [
    {
     "data": {
      "text/html": [
       "<style  type=\"text/css\" >\n",
       "</style><table id=\"T_85377f77_1ba0_11eb_80e8_04d9f5f90b15\" ><thead>    <tr>        <th class=\"blank level0\" ></th>        <th class=\"col_heading level0 col0\" >Purchase Count</th>        <th class=\"col_heading level0 col1\" >Average Purchase Price</th>        <th class=\"col_heading level0 col2\" >Total Purchase Value</th>        <th class=\"col_heading level0 col3\" >Average Purchase Total Per Person</th>    </tr>    <tr>        <th class=\"index_name level0\" >Age Group</th>        <th class=\"blank\" ></th>        <th class=\"blank\" ></th>        <th class=\"blank\" ></th>        <th class=\"blank\" ></th>    </tr></thead><tbody>\n",
       "                <tr>\n",
       "                        <th id=\"T_85377f77_1ba0_11eb_80e8_04d9f5f90b15level0_row0\" class=\"row_heading level0 row0\" ><10</th>\n",
       "                        <td id=\"T_85377f77_1ba0_11eb_80e8_04d9f5f90b15row0_col0\" class=\"data row0 col0\" >23</td>\n",
       "                        <td id=\"T_85377f77_1ba0_11eb_80e8_04d9f5f90b15row0_col1\" class=\"data row0 col1\" >$3.35</td>\n",
       "                        <td id=\"T_85377f77_1ba0_11eb_80e8_04d9f5f90b15row0_col2\" class=\"data row0 col2\" >$77.13</td>\n",
       "                        <td id=\"T_85377f77_1ba0_11eb_80e8_04d9f5f90b15row0_col3\" class=\"data row0 col3\" >$4.54</td>\n",
       "            </tr>\n",
       "            <tr>\n",
       "                        <th id=\"T_85377f77_1ba0_11eb_80e8_04d9f5f90b15level0_row1\" class=\"row_heading level0 row1\" >10-14</th>\n",
       "                        <td id=\"T_85377f77_1ba0_11eb_80e8_04d9f5f90b15row1_col0\" class=\"data row1 col0\" >28</td>\n",
       "                        <td id=\"T_85377f77_1ba0_11eb_80e8_04d9f5f90b15row1_col1\" class=\"data row1 col1\" >$2.96</td>\n",
       "                        <td id=\"T_85377f77_1ba0_11eb_80e8_04d9f5f90b15row1_col2\" class=\"data row1 col2\" >$82.78</td>\n",
       "                        <td id=\"T_85377f77_1ba0_11eb_80e8_04d9f5f90b15row1_col3\" class=\"data row1 col3\" >$3.76</td>\n",
       "            </tr>\n",
       "            <tr>\n",
       "                        <th id=\"T_85377f77_1ba0_11eb_80e8_04d9f5f90b15level0_row2\" class=\"row_heading level0 row2\" >15-19</th>\n",
       "                        <td id=\"T_85377f77_1ba0_11eb_80e8_04d9f5f90b15row2_col0\" class=\"data row2 col0\" >136</td>\n",
       "                        <td id=\"T_85377f77_1ba0_11eb_80e8_04d9f5f90b15row2_col1\" class=\"data row2 col1\" >$3.04</td>\n",
       "                        <td id=\"T_85377f77_1ba0_11eb_80e8_04d9f5f90b15row2_col2\" class=\"data row2 col2\" >$412.89</td>\n",
       "                        <td id=\"T_85377f77_1ba0_11eb_80e8_04d9f5f90b15row2_col3\" class=\"data row2 col3\" >$3.86</td>\n",
       "            </tr>\n",
       "            <tr>\n",
       "                        <th id=\"T_85377f77_1ba0_11eb_80e8_04d9f5f90b15level0_row3\" class=\"row_heading level0 row3\" >20-24</th>\n",
       "                        <td id=\"T_85377f77_1ba0_11eb_80e8_04d9f5f90b15row3_col0\" class=\"data row3 col0\" >365</td>\n",
       "                        <td id=\"T_85377f77_1ba0_11eb_80e8_04d9f5f90b15row3_col1\" class=\"data row3 col1\" >$3.05</td>\n",
       "                        <td id=\"T_85377f77_1ba0_11eb_80e8_04d9f5f90b15row3_col2\" class=\"data row3 col2\" >$1,114.06</td>\n",
       "                        <td id=\"T_85377f77_1ba0_11eb_80e8_04d9f5f90b15row3_col3\" class=\"data row3 col3\" >$4.32</td>\n",
       "            </tr>\n",
       "            <tr>\n",
       "                        <th id=\"T_85377f77_1ba0_11eb_80e8_04d9f5f90b15level0_row4\" class=\"row_heading level0 row4\" >25-29</th>\n",
       "                        <td id=\"T_85377f77_1ba0_11eb_80e8_04d9f5f90b15row4_col0\" class=\"data row4 col0\" >101</td>\n",
       "                        <td id=\"T_85377f77_1ba0_11eb_80e8_04d9f5f90b15row4_col1\" class=\"data row4 col1\" >$2.90</td>\n",
       "                        <td id=\"T_85377f77_1ba0_11eb_80e8_04d9f5f90b15row4_col2\" class=\"data row4 col2\" >$293.00</td>\n",
       "                        <td id=\"T_85377f77_1ba0_11eb_80e8_04d9f5f90b15row4_col3\" class=\"data row4 col3\" >$3.81</td>\n",
       "            </tr>\n",
       "            <tr>\n",
       "                        <th id=\"T_85377f77_1ba0_11eb_80e8_04d9f5f90b15level0_row5\" class=\"row_heading level0 row5\" >30-34</th>\n",
       "                        <td id=\"T_85377f77_1ba0_11eb_80e8_04d9f5f90b15row5_col0\" class=\"data row5 col0\" >73</td>\n",
       "                        <td id=\"T_85377f77_1ba0_11eb_80e8_04d9f5f90b15row5_col1\" class=\"data row5 col1\" >$2.93</td>\n",
       "                        <td id=\"T_85377f77_1ba0_11eb_80e8_04d9f5f90b15row5_col2\" class=\"data row5 col2\" >$214.00</td>\n",
       "                        <td id=\"T_85377f77_1ba0_11eb_80e8_04d9f5f90b15row5_col3\" class=\"data row5 col3\" >$4.12</td>\n",
       "            </tr>\n",
       "            <tr>\n",
       "                        <th id=\"T_85377f77_1ba0_11eb_80e8_04d9f5f90b15level0_row6\" class=\"row_heading level0 row6\" >35-39</th>\n",
       "                        <td id=\"T_85377f77_1ba0_11eb_80e8_04d9f5f90b15row6_col0\" class=\"data row6 col0\" >41</td>\n",
       "                        <td id=\"T_85377f77_1ba0_11eb_80e8_04d9f5f90b15row6_col1\" class=\"data row6 col1\" >$3.60</td>\n",
       "                        <td id=\"T_85377f77_1ba0_11eb_80e8_04d9f5f90b15row6_col2\" class=\"data row6 col2\" >$147.67</td>\n",
       "                        <td id=\"T_85377f77_1ba0_11eb_80e8_04d9f5f90b15row6_col3\" class=\"data row6 col3\" >$4.76</td>\n",
       "            </tr>\n",
       "            <tr>\n",
       "                        <th id=\"T_85377f77_1ba0_11eb_80e8_04d9f5f90b15level0_row7\" class=\"row_heading level0 row7\" >40+</th>\n",
       "                        <td id=\"T_85377f77_1ba0_11eb_80e8_04d9f5f90b15row7_col0\" class=\"data row7 col0\" >13</td>\n",
       "                        <td id=\"T_85377f77_1ba0_11eb_80e8_04d9f5f90b15row7_col1\" class=\"data row7 col1\" >$2.94</td>\n",
       "                        <td id=\"T_85377f77_1ba0_11eb_80e8_04d9f5f90b15row7_col2\" class=\"data row7 col2\" >$38.24</td>\n",
       "                        <td id=\"T_85377f77_1ba0_11eb_80e8_04d9f5f90b15row7_col3\" class=\"data row7 col3\" >$3.19</td>\n",
       "            </tr>\n",
       "    </tbody></table>"
      ],
      "text/plain": [
       "<pandas.io.formats.style.Styler at 0x20065e2d2b0>"
      ]
     },
     "execution_count": 7,
     "metadata": {},
     "output_type": "execute_result"
    }
   ],
   "source": [
    "#Couted purchases by age group\n",
    "age_Purchase_Count = age_Group[\"Purchase ID\"].count()\n",
    "#average purchase price by age group\n",
    "age_Average_Price = age_Group[\"Price\"].mean()\n",
    "#total purchase of age group using sum\n",
    "age_Total_Purchase = age_Group[\"Price\"].sum()\n",
    "#calculatiosn for average purchase per person by age group\n",
    "age_Average_Per_Person = (age_Total_Purchase / age_Group_Count)\n",
    "#Created data frame for values above\n",
    "age_Purchase_Analysis_df = pd.DataFrame({\n",
    "                                        \"Purchase Count\": age_Purchase_Count,\n",
    "                                        \"Average Purchase Price\": age_Average_Price,\n",
    "                                        \"Total Purchase Value\": age_Total_Purchase,\n",
    "                                        \"Average Purchase Total Per Person\":age_Average_Per_Person\n",
    "                                        })\n",
    "#formated and styled the data frame for currency\n",
    "age_Purchase_Analysis_df.style.format({\n",
    "                                      \"Average Purchase Price\" : \"${:,.2f}\",\n",
    "                                      \"Total Purchase Value\": \"${:,.2f}\",\n",
    "                                      \"Average Purchase Total Per Person\": \"${:,.2f}\"\n",
    "                                      })\n",
    "\n",
    "\n"
   ]
  },
  {
   "cell_type": "markdown",
   "metadata": {},
   "source": [
    "## Top Spenders"
   ]
  },
  {
   "cell_type": "markdown",
   "metadata": {},
   "source": [
    "* Run basic calculations to obtain the results in the table below\n",
    "\n",
    "\n",
    "* Create a summary data frame to hold the results\n",
    "\n",
    "\n",
    "* Sort the total purchase value column in descending order\n",
    "\n",
    "\n",
    "* Optional: give the displayed data cleaner formatting\n",
    "\n",
    "\n",
    "* Display a preview of the summary data frame\n",
    "\n"
   ]
  },
  {
   "cell_type": "code",
   "execution_count": 8,
   "metadata": {},
   "outputs": [
    {
     "data": {
      "text/html": [
       "<style  type=\"text/css\" >\n",
       "</style><table id=\"T_86aeb49b_1ba0_11eb_99eb_04d9f5f90b15\" ><thead>    <tr>        <th class=\"blank level0\" ></th>        <th class=\"col_heading level0 col0\" >Purchase Count</th>        <th class=\"col_heading level0 col1\" >Average Purchase Price</th>        <th class=\"col_heading level0 col2\" >Total Purchase Value</th>    </tr>    <tr>        <th class=\"index_name level0\" >SN</th>        <th class=\"blank\" ></th>        <th class=\"blank\" ></th>        <th class=\"blank\" ></th>    </tr></thead><tbody>\n",
       "                <tr>\n",
       "                        <th id=\"T_86aeb49b_1ba0_11eb_99eb_04d9f5f90b15level0_row0\" class=\"row_heading level0 row0\" >Lisosia93</th>\n",
       "                        <td id=\"T_86aeb49b_1ba0_11eb_99eb_04d9f5f90b15row0_col0\" class=\"data row0 col0\" >5</td>\n",
       "                        <td id=\"T_86aeb49b_1ba0_11eb_99eb_04d9f5f90b15row0_col1\" class=\"data row0 col1\" >$3.79</td>\n",
       "                        <td id=\"T_86aeb49b_1ba0_11eb_99eb_04d9f5f90b15row0_col2\" class=\"data row0 col2\" >$18.96</td>\n",
       "            </tr>\n",
       "            <tr>\n",
       "                        <th id=\"T_86aeb49b_1ba0_11eb_99eb_04d9f5f90b15level0_row1\" class=\"row_heading level0 row1\" >Idastidru52</th>\n",
       "                        <td id=\"T_86aeb49b_1ba0_11eb_99eb_04d9f5f90b15row1_col0\" class=\"data row1 col0\" >4</td>\n",
       "                        <td id=\"T_86aeb49b_1ba0_11eb_99eb_04d9f5f90b15row1_col1\" class=\"data row1 col1\" >$3.86</td>\n",
       "                        <td id=\"T_86aeb49b_1ba0_11eb_99eb_04d9f5f90b15row1_col2\" class=\"data row1 col2\" >$15.45</td>\n",
       "            </tr>\n",
       "            <tr>\n",
       "                        <th id=\"T_86aeb49b_1ba0_11eb_99eb_04d9f5f90b15level0_row2\" class=\"row_heading level0 row2\" >Chamjask73</th>\n",
       "                        <td id=\"T_86aeb49b_1ba0_11eb_99eb_04d9f5f90b15row2_col0\" class=\"data row2 col0\" >3</td>\n",
       "                        <td id=\"T_86aeb49b_1ba0_11eb_99eb_04d9f5f90b15row2_col1\" class=\"data row2 col1\" >$4.61</td>\n",
       "                        <td id=\"T_86aeb49b_1ba0_11eb_99eb_04d9f5f90b15row2_col2\" class=\"data row2 col2\" >$13.83</td>\n",
       "            </tr>\n",
       "            <tr>\n",
       "                        <th id=\"T_86aeb49b_1ba0_11eb_99eb_04d9f5f90b15level0_row3\" class=\"row_heading level0 row3\" >Iral74</th>\n",
       "                        <td id=\"T_86aeb49b_1ba0_11eb_99eb_04d9f5f90b15row3_col0\" class=\"data row3 col0\" >4</td>\n",
       "                        <td id=\"T_86aeb49b_1ba0_11eb_99eb_04d9f5f90b15row3_col1\" class=\"data row3 col1\" >$3.40</td>\n",
       "                        <td id=\"T_86aeb49b_1ba0_11eb_99eb_04d9f5f90b15row3_col2\" class=\"data row3 col2\" >$13.62</td>\n",
       "            </tr>\n",
       "            <tr>\n",
       "                        <th id=\"T_86aeb49b_1ba0_11eb_99eb_04d9f5f90b15level0_row4\" class=\"row_heading level0 row4\" >Iskadarya95</th>\n",
       "                        <td id=\"T_86aeb49b_1ba0_11eb_99eb_04d9f5f90b15row4_col0\" class=\"data row4 col0\" >3</td>\n",
       "                        <td id=\"T_86aeb49b_1ba0_11eb_99eb_04d9f5f90b15row4_col1\" class=\"data row4 col1\" >$4.37</td>\n",
       "                        <td id=\"T_86aeb49b_1ba0_11eb_99eb_04d9f5f90b15row4_col2\" class=\"data row4 col2\" >$13.10</td>\n",
       "            </tr>\n",
       "    </tbody></table>"
      ],
      "text/plain": [
       "<pandas.io.formats.style.Styler at 0x20063da92b0>"
      ]
     },
     "execution_count": 8,
     "metadata": {},
     "output_type": "execute_result"
    }
   ],
   "source": [
    "#group spenders according to SN\n",
    "spender_Rank = purchase_data.groupby(\"SN\")\n",
    "#counted spenders by Purchase ID\n",
    "spender_Purchase_Count = spender_Rank[\"Purchase ID\"].count()\n",
    "#average spent \n",
    "spender_Average_Price = spender_Rank[\"Price\"].mean()\n",
    "#Total spent \n",
    "spender_Total = spender_Rank[\"Price\"].sum()\n",
    "#Data frame for values above \n",
    "spender_Top_df = pd.DataFrame({\"Purchase Count\" : spender_Purchase_Count,\n",
    "                               \"Average Purchase Price\" : spender_Average_Price,\n",
    "                               \"Total Purchase Value\" : spender_Total\n",
    "                               })\n",
    "#show top 5 results in descending order via total purchase value\n",
    "spender_Head = spender_Top_df.sort_values([\"Total Purchase Value\"], ascending=False).head()\n",
    "#formated for currency\n",
    "spender_Head.style.format({\n",
    "                           \"Average Purchase Price\" : \"${:,.2f}\",\n",
    "                           \"Total Purchase Value\": \"${:,.2f}\",\n",
    "                           })\n"
   ]
  },
  {
   "cell_type": "markdown",
   "metadata": {},
   "source": [
    "## Most Popular Items"
   ]
  },
  {
   "cell_type": "markdown",
   "metadata": {},
   "source": [
    "* Retrieve the Item ID, Item Name, and Item Price columns\n",
    "\n",
    "\n",
    "* Group by Item ID and Item Name. Perform calculations to obtain purchase count, average item price, and total purchase value\n",
    "\n",
    "\n",
    "* Create a summary data frame to hold the results\n",
    "\n",
    "\n",
    "* Sort the purchase count column in descending order\n",
    "\n",
    "\n",
    "* Optional: give the displayed data cleaner formatting\n",
    "\n",
    "\n",
    "* Display a preview of the summary data frame\n",
    "\n"
   ]
  },
  {
   "cell_type": "code",
   "execution_count": 9,
   "metadata": {},
   "outputs": [
    {
     "data": {
      "text/html": [
       "<style  type=\"text/css\" >\n",
       "</style><table id=\"T_875c59a6_1ba0_11eb_b97a_04d9f5f90b15\" ><thead>    <tr>        <th class=\"blank\" ></th>        <th class=\"blank level0\" ></th>        <th class=\"col_heading level0 col0\" >Purchase Count</th>        <th class=\"col_heading level0 col1\" >Item Price</th>        <th class=\"col_heading level0 col2\" >Total Purchase Value</th>    </tr>    <tr>        <th class=\"index_name level0\" >Item ID</th>        <th class=\"index_name level1\" >Item Name</th>        <th class=\"blank\" ></th>        <th class=\"blank\" ></th>        <th class=\"blank\" ></th>    </tr></thead><tbody>\n",
       "                <tr>\n",
       "                        <th id=\"T_875c59a6_1ba0_11eb_b97a_04d9f5f90b15level0_row0\" class=\"row_heading level0 row0\" >92</th>\n",
       "                        <th id=\"T_875c59a6_1ba0_11eb_b97a_04d9f5f90b15level1_row0\" class=\"row_heading level1 row0\" >Final Critic</th>\n",
       "                        <td id=\"T_875c59a6_1ba0_11eb_b97a_04d9f5f90b15row0_col0\" class=\"data row0 col0\" >13</td>\n",
       "                        <td id=\"T_875c59a6_1ba0_11eb_b97a_04d9f5f90b15row0_col1\" class=\"data row0 col1\" >$4.61</td>\n",
       "                        <td id=\"T_875c59a6_1ba0_11eb_b97a_04d9f5f90b15row0_col2\" class=\"data row0 col2\" >$59.99</td>\n",
       "            </tr>\n",
       "            <tr>\n",
       "                        <th id=\"T_875c59a6_1ba0_11eb_b97a_04d9f5f90b15level0_row1\" class=\"row_heading level0 row1\" >178</th>\n",
       "                        <th id=\"T_875c59a6_1ba0_11eb_b97a_04d9f5f90b15level1_row1\" class=\"row_heading level1 row1\" >Oathbreaker, Last Hope of the Breaking Storm</th>\n",
       "                        <td id=\"T_875c59a6_1ba0_11eb_b97a_04d9f5f90b15row1_col0\" class=\"data row1 col0\" >12</td>\n",
       "                        <td id=\"T_875c59a6_1ba0_11eb_b97a_04d9f5f90b15row1_col1\" class=\"data row1 col1\" >$4.23</td>\n",
       "                        <td id=\"T_875c59a6_1ba0_11eb_b97a_04d9f5f90b15row1_col2\" class=\"data row1 col2\" >$50.76</td>\n",
       "            </tr>\n",
       "            <tr>\n",
       "                        <th id=\"T_875c59a6_1ba0_11eb_b97a_04d9f5f90b15level0_row2\" class=\"row_heading level0 row2\" >145</th>\n",
       "                        <th id=\"T_875c59a6_1ba0_11eb_b97a_04d9f5f90b15level1_row2\" class=\"row_heading level1 row2\" >Fiery Glass Crusader</th>\n",
       "                        <td id=\"T_875c59a6_1ba0_11eb_b97a_04d9f5f90b15row2_col0\" class=\"data row2 col0\" >9</td>\n",
       "                        <td id=\"T_875c59a6_1ba0_11eb_b97a_04d9f5f90b15row2_col1\" class=\"data row2 col1\" >$4.58</td>\n",
       "                        <td id=\"T_875c59a6_1ba0_11eb_b97a_04d9f5f90b15row2_col2\" class=\"data row2 col2\" >$41.22</td>\n",
       "            </tr>\n",
       "            <tr>\n",
       "                        <th id=\"T_875c59a6_1ba0_11eb_b97a_04d9f5f90b15level0_row3\" class=\"row_heading level0 row3\" >132</th>\n",
       "                        <th id=\"T_875c59a6_1ba0_11eb_b97a_04d9f5f90b15level1_row3\" class=\"row_heading level1 row3\" >Persuasion</th>\n",
       "                        <td id=\"T_875c59a6_1ba0_11eb_b97a_04d9f5f90b15row3_col0\" class=\"data row3 col0\" >9</td>\n",
       "                        <td id=\"T_875c59a6_1ba0_11eb_b97a_04d9f5f90b15row3_col1\" class=\"data row3 col1\" >$3.22</td>\n",
       "                        <td id=\"T_875c59a6_1ba0_11eb_b97a_04d9f5f90b15row3_col2\" class=\"data row3 col2\" >$28.99</td>\n",
       "            </tr>\n",
       "            <tr>\n",
       "                        <th id=\"T_875c59a6_1ba0_11eb_b97a_04d9f5f90b15level0_row4\" class=\"row_heading level0 row4\" >108</th>\n",
       "                        <th id=\"T_875c59a6_1ba0_11eb_b97a_04d9f5f90b15level1_row4\" class=\"row_heading level1 row4\" >Extraction, Quickblade Of Trembling Hands</th>\n",
       "                        <td id=\"T_875c59a6_1ba0_11eb_b97a_04d9f5f90b15row4_col0\" class=\"data row4 col0\" >9</td>\n",
       "                        <td id=\"T_875c59a6_1ba0_11eb_b97a_04d9f5f90b15row4_col1\" class=\"data row4 col1\" >$3.53</td>\n",
       "                        <td id=\"T_875c59a6_1ba0_11eb_b97a_04d9f5f90b15row4_col2\" class=\"data row4 col2\" >$31.77</td>\n",
       "            </tr>\n",
       "    </tbody></table>"
      ],
      "text/plain": [
       "<pandas.io.formats.style.Styler at 0x20066f1ec40>"
      ]
     },
     "execution_count": 9,
     "metadata": {},
     "output_type": "execute_result"
    }
   ],
   "source": [
    "#Created new data frame for Items\n",
    "items_info = purchase_data[[\"Item ID\" , \"Item Name\", \"Price\"]]\n",
    "#grouped Item specific info\n",
    "items_group = items_info.groupby([\"Item ID\" , \"Item Name\"])\n",
    "#count items that have been bought\n",
    "items_Purchase_Count= items_group[\"Price\"].count()\n",
    "#sum of items bought\n",
    "items_Total_Value=items_group[\"Price\"].sum()\n",
    "#calculatiosn for individual item prices \n",
    "item_price = (items_Total_Value/items_Purchase_Count)\n",
    "\n",
    "#dataframe for above \n",
    "items_Popular_df = pd.DataFrame({\n",
    "                                \"Purchase Count\" : items_Purchase_Count,\n",
    "                                \"Item Price\" : item_price,\n",
    "                                \"Total Purchase Value\" : items_Total_Value\n",
    "                                })\n",
    "#get the top 5 spenders in descending order\n",
    "items_Popular_sort_df = items_Popular_df.sort_values([\"Purchase Count\"], ascending=False).head()\n",
    "#format for currency\n",
    "items_Popular_sort_df.style.format({\n",
    "                           \"Item Price\" : \"${:,.2f}\",\n",
    "                           \"Total Purchase Value\": \"${:,.2f}\",\n",
    "                           })\n"
   ]
  },
  {
   "cell_type": "markdown",
   "metadata": {},
   "source": [
    "## Most Profitable Items"
   ]
  },
  {
   "cell_type": "markdown",
   "metadata": {},
   "source": [
    "* Sort the above table by total purchase value in descending order\n",
    "\n",
    "\n",
    "* Optional: give the displayed data cleaner formatting\n",
    "\n",
    "\n",
    "* Display a preview of the data frame\n",
    "\n"
   ]
  },
  {
   "cell_type": "code",
   "execution_count": 10,
   "metadata": {
    "scrolled": true
   },
   "outputs": [
    {
     "data": {
      "text/html": [
       "<style  type=\"text/css\" >\n",
       "</style><table id=\"T_8825112c_1ba0_11eb_b998_04d9f5f90b15\" ><thead>    <tr>        <th class=\"blank\" ></th>        <th class=\"blank level0\" ></th>        <th class=\"col_heading level0 col0\" >Purchase Count</th>        <th class=\"col_heading level0 col1\" >Item Price</th>        <th class=\"col_heading level0 col2\" >Total Purchase Value</th>    </tr>    <tr>        <th class=\"index_name level0\" >Item ID</th>        <th class=\"index_name level1\" >Item Name</th>        <th class=\"blank\" ></th>        <th class=\"blank\" ></th>        <th class=\"blank\" ></th>    </tr></thead><tbody>\n",
       "                <tr>\n",
       "                        <th id=\"T_8825112c_1ba0_11eb_b998_04d9f5f90b15level0_row0\" class=\"row_heading level0 row0\" >92</th>\n",
       "                        <th id=\"T_8825112c_1ba0_11eb_b998_04d9f5f90b15level1_row0\" class=\"row_heading level1 row0\" >Final Critic</th>\n",
       "                        <td id=\"T_8825112c_1ba0_11eb_b998_04d9f5f90b15row0_col0\" class=\"data row0 col0\" >13</td>\n",
       "                        <td id=\"T_8825112c_1ba0_11eb_b998_04d9f5f90b15row0_col1\" class=\"data row0 col1\" >$4.61</td>\n",
       "                        <td id=\"T_8825112c_1ba0_11eb_b998_04d9f5f90b15row0_col2\" class=\"data row0 col2\" >$59.99</td>\n",
       "            </tr>\n",
       "            <tr>\n",
       "                        <th id=\"T_8825112c_1ba0_11eb_b998_04d9f5f90b15level0_row1\" class=\"row_heading level0 row1\" >178</th>\n",
       "                        <th id=\"T_8825112c_1ba0_11eb_b998_04d9f5f90b15level1_row1\" class=\"row_heading level1 row1\" >Oathbreaker, Last Hope of the Breaking Storm</th>\n",
       "                        <td id=\"T_8825112c_1ba0_11eb_b998_04d9f5f90b15row1_col0\" class=\"data row1 col0\" >12</td>\n",
       "                        <td id=\"T_8825112c_1ba0_11eb_b998_04d9f5f90b15row1_col1\" class=\"data row1 col1\" >$4.23</td>\n",
       "                        <td id=\"T_8825112c_1ba0_11eb_b998_04d9f5f90b15row1_col2\" class=\"data row1 col2\" >$50.76</td>\n",
       "            </tr>\n",
       "            <tr>\n",
       "                        <th id=\"T_8825112c_1ba0_11eb_b998_04d9f5f90b15level0_row2\" class=\"row_heading level0 row2\" >82</th>\n",
       "                        <th id=\"T_8825112c_1ba0_11eb_b998_04d9f5f90b15level1_row2\" class=\"row_heading level1 row2\" >Nirvana</th>\n",
       "                        <td id=\"T_8825112c_1ba0_11eb_b998_04d9f5f90b15row2_col0\" class=\"data row2 col0\" >9</td>\n",
       "                        <td id=\"T_8825112c_1ba0_11eb_b998_04d9f5f90b15row2_col1\" class=\"data row2 col1\" >$4.90</td>\n",
       "                        <td id=\"T_8825112c_1ba0_11eb_b998_04d9f5f90b15row2_col2\" class=\"data row2 col2\" >$44.10</td>\n",
       "            </tr>\n",
       "            <tr>\n",
       "                        <th id=\"T_8825112c_1ba0_11eb_b998_04d9f5f90b15level0_row3\" class=\"row_heading level0 row3\" >145</th>\n",
       "                        <th id=\"T_8825112c_1ba0_11eb_b998_04d9f5f90b15level1_row3\" class=\"row_heading level1 row3\" >Fiery Glass Crusader</th>\n",
       "                        <td id=\"T_8825112c_1ba0_11eb_b998_04d9f5f90b15row3_col0\" class=\"data row3 col0\" >9</td>\n",
       "                        <td id=\"T_8825112c_1ba0_11eb_b998_04d9f5f90b15row3_col1\" class=\"data row3 col1\" >$4.58</td>\n",
       "                        <td id=\"T_8825112c_1ba0_11eb_b998_04d9f5f90b15row3_col2\" class=\"data row3 col2\" >$41.22</td>\n",
       "            </tr>\n",
       "            <tr>\n",
       "                        <th id=\"T_8825112c_1ba0_11eb_b998_04d9f5f90b15level0_row4\" class=\"row_heading level0 row4\" >103</th>\n",
       "                        <th id=\"T_8825112c_1ba0_11eb_b998_04d9f5f90b15level1_row4\" class=\"row_heading level1 row4\" >Singed Scalpel</th>\n",
       "                        <td id=\"T_8825112c_1ba0_11eb_b998_04d9f5f90b15row4_col0\" class=\"data row4 col0\" >8</td>\n",
       "                        <td id=\"T_8825112c_1ba0_11eb_b998_04d9f5f90b15row4_col1\" class=\"data row4 col1\" >$4.35</td>\n",
       "                        <td id=\"T_8825112c_1ba0_11eb_b998_04d9f5f90b15row4_col2\" class=\"data row4 col2\" >$34.80</td>\n",
       "            </tr>\n",
       "    </tbody></table>"
      ],
      "text/plain": [
       "<pandas.io.formats.style.Styler at 0x20066f1eaf0>"
      ]
     },
     "execution_count": 10,
     "metadata": {},
     "output_type": "execute_result"
    }
   ],
   "source": [
    "#get the top 5 popular items in descending order\n",
    "items_profitable_df = items_Popular_df.sort_values([\"Total Purchase Value\"], ascending=False).head()\n",
    "#format for currency\n",
    "items_profitable_df.style.format({\n",
    "                                 \"Item Price\" : \"${:,.2f}\",\n",
    "                                 \"Total Purchase Value\": \"${:,.2f}\",\n",
    "                                 })\n"
   ]
  },
  {
   "cell_type": "code",
   "execution_count": null,
   "metadata": {},
   "outputs": [],
   "source": []
  }
 ],
 "metadata": {
  "anaconda-cloud": {},
  "kernel_info": {
   "name": "python3"
  },
  "kernelspec": {
   "display_name": "Python 3",
   "language": "python",
   "name": "python3"
  },
  "language_info": {
   "codemirror_mode": {
    "name": "ipython",
    "version": 3
   },
   "file_extension": ".py",
   "mimetype": "text/x-python",
   "name": "python",
   "nbconvert_exporter": "python",
   "pygments_lexer": "ipython3",
   "version": "3.8.3"
  },
  "latex_envs": {
   "LaTeX_envs_menu_present": true,
   "autoclose": false,
   "autocomplete": true,
   "bibliofile": "biblio.bib",
   "cite_by": "apalike",
   "current_citInitial": 1,
   "eqLabelWithNumbers": true,
   "eqNumInitial": 1,
   "hotkeys": {
    "equation": "Ctrl-E",
    "itemize": "Ctrl-I"
   },
   "labels_anchors": false,
   "latex_user_defs": false,
   "report_style_numbering": false,
   "user_envs_cfg": false
  },
  "nteract": {
   "version": "0.2.0"
  }
 },
 "nbformat": 4,
 "nbformat_minor": 2
}
